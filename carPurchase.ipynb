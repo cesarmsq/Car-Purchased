{
 "cells": [
  {
   "cell_type": "markdown",
   "id": "f0f20d1c-582d-4d55-9d8b-8d8046aa7a79",
   "metadata": {},
   "source": [
    "<div style=\"text-align:center;color:#008BFF;font-weight:1000;font-size:50px\">\n",
    "    Cars - Purchase Decision\n",
    "</div>"
   ]
  },
  {
   "cell_type": "code",
   "execution_count": 1,
   "id": "818fc7e3-c43f-4ca3-8357-46e4688271f8",
   "metadata": {},
   "outputs": [],
   "source": [
    "import pandas as pd\n",
    "import numpy as np\n",
    "import seaborn as sns\n",
    "\n",
    "from joblib import dump\n",
    "from xgboost import XGBClassifier\n",
    "from lightgbm import LGBMClassifier\n",
    "from catboost import CatBoostClassifier\n",
    "from sklearn.ensemble import ExtraTreesClassifier\n",
    "from sklearn.model_selection import (\n",
    "    StratifiedKFold, cross_val_score, RandomizedSearchCV\n",
    ")"
   ]
  },
  {
   "cell_type": "code",
   "execution_count": 2,
   "id": "8bbf1a85-f318-4f7b-8718-67e1822c8fe4",
   "metadata": {},
   "outputs": [
    {
     "data": {
      "text/html": [
       "<div>\n",
       "<style scoped>\n",
       "    .dataframe tbody tr th:only-of-type {\n",
       "        vertical-align: middle;\n",
       "    }\n",
       "\n",
       "    .dataframe tbody tr th {\n",
       "        vertical-align: top;\n",
       "    }\n",
       "\n",
       "    .dataframe thead th {\n",
       "        text-align: right;\n",
       "    }\n",
       "</style>\n",
       "<table border=\"1\" class=\"dataframe\">\n",
       "  <thead>\n",
       "    <tr style=\"text-align: right;\">\n",
       "      <th></th>\n",
       "      <th>Gender</th>\n",
       "      <th>Age</th>\n",
       "      <th>AnnualSalary</th>\n",
       "      <th>Purchased</th>\n",
       "    </tr>\n",
       "    <tr>\n",
       "      <th>User ID</th>\n",
       "      <th></th>\n",
       "      <th></th>\n",
       "      <th></th>\n",
       "      <th></th>\n",
       "    </tr>\n",
       "  </thead>\n",
       "  <tbody>\n",
       "    <tr>\n",
       "      <th>385</th>\n",
       "      <td>Male</td>\n",
       "      <td>35</td>\n",
       "      <td>20000</td>\n",
       "      <td>0</td>\n",
       "    </tr>\n",
       "    <tr>\n",
       "      <th>681</th>\n",
       "      <td>Male</td>\n",
       "      <td>40</td>\n",
       "      <td>43500</td>\n",
       "      <td>0</td>\n",
       "    </tr>\n",
       "    <tr>\n",
       "      <th>353</th>\n",
       "      <td>Male</td>\n",
       "      <td>49</td>\n",
       "      <td>74000</td>\n",
       "      <td>0</td>\n",
       "    </tr>\n",
       "    <tr>\n",
       "      <th>895</th>\n",
       "      <td>Male</td>\n",
       "      <td>40</td>\n",
       "      <td>107500</td>\n",
       "      <td>1</td>\n",
       "    </tr>\n",
       "    <tr>\n",
       "      <th>661</th>\n",
       "      <td>Male</td>\n",
       "      <td>25</td>\n",
       "      <td>79000</td>\n",
       "      <td>0</td>\n",
       "    </tr>\n",
       "  </tbody>\n",
       "</table>\n",
       "</div>"
      ],
      "text/plain": [
       "        Gender  Age  AnnualSalary  Purchased\n",
       "User ID                                     \n",
       "385       Male   35         20000          0\n",
       "681       Male   40         43500          0\n",
       "353       Male   49         74000          0\n",
       "895       Male   40        107500          1\n",
       "661       Male   25         79000          0"
      ]
     },
     "execution_count": 2,
     "metadata": {},
     "output_type": "execute_result"
    }
   ],
   "source": [
    "df = pd.read_csv(\"dataset/car_data.csv\", index_col=\"User ID\")\n",
    "df.head()"
   ]
  },
  {
   "cell_type": "markdown",
   "id": "fe077f82-b898-4694-b978-d2706db2fb22",
   "metadata": {},
   "source": [
    "# 1. EDA"
   ]
  },
  {
   "cell_type": "code",
   "execution_count": 3,
   "id": "fd5da68f-357a-4d6c-a13d-0a16b140f6d1",
   "metadata": {},
   "outputs": [
    {
     "data": {
      "text/plain": [
       "(1000, 4)"
      ]
     },
     "execution_count": 3,
     "metadata": {},
     "output_type": "execute_result"
    }
   ],
   "source": [
    "df.shape"
   ]
  },
  {
   "cell_type": "code",
   "execution_count": 4,
   "id": "ae6845b0-c65e-4b2a-ab3b-ab56199f5241",
   "metadata": {},
   "outputs": [
    {
     "data": {
      "text/plain": [
       "Gender\n",
       "Female    219\n",
       "Male      183\n",
       "Name: Purchased, dtype: int64"
      ]
     },
     "execution_count": 4,
     "metadata": {},
     "output_type": "execute_result"
    }
   ],
   "source": [
    "df.groupby(\"Gender\")[\"Purchased\"].sum()"
   ]
  },
  {
   "cell_type": "code",
   "execution_count": 5,
   "id": "905f875c-6676-4ba5-a7e8-b7b405d9e13f",
   "metadata": {},
   "outputs": [
    {
     "data": {
      "text/html": [
       "<div>\n",
       "<style scoped>\n",
       "    .dataframe tbody tr th:only-of-type {\n",
       "        vertical-align: middle;\n",
       "    }\n",
       "\n",
       "    .dataframe tbody tr th {\n",
       "        vertical-align: top;\n",
       "    }\n",
       "\n",
       "    .dataframe thead th {\n",
       "        text-align: right;\n",
       "    }\n",
       "</style>\n",
       "<table border=\"1\" class=\"dataframe\">\n",
       "  <thead>\n",
       "    <tr style=\"text-align: right;\">\n",
       "      <th></th>\n",
       "      <th>count</th>\n",
       "      <th>mean</th>\n",
       "      <th>std</th>\n",
       "      <th>min</th>\n",
       "      <th>25%</th>\n",
       "      <th>50%</th>\n",
       "      <th>75%</th>\n",
       "      <th>max</th>\n",
       "    </tr>\n",
       "  </thead>\n",
       "  <tbody>\n",
       "    <tr>\n",
       "      <th>Age</th>\n",
       "      <td>1000.0</td>\n",
       "      <td>40.106</td>\n",
       "      <td>10.707073</td>\n",
       "      <td>18.0</td>\n",
       "      <td>32.0</td>\n",
       "      <td>40.0</td>\n",
       "      <td>48.0</td>\n",
       "      <td>63.0</td>\n",
       "    </tr>\n",
       "    <tr>\n",
       "      <th>AnnualSalary</th>\n",
       "      <td>1000.0</td>\n",
       "      <td>72689.000</td>\n",
       "      <td>34488.341867</td>\n",
       "      <td>15000.0</td>\n",
       "      <td>46375.0</td>\n",
       "      <td>72000.0</td>\n",
       "      <td>90000.0</td>\n",
       "      <td>152500.0</td>\n",
       "    </tr>\n",
       "    <tr>\n",
       "      <th>Purchased</th>\n",
       "      <td>1000.0</td>\n",
       "      <td>0.402</td>\n",
       "      <td>0.490547</td>\n",
       "      <td>0.0</td>\n",
       "      <td>0.0</td>\n",
       "      <td>0.0</td>\n",
       "      <td>1.0</td>\n",
       "      <td>1.0</td>\n",
       "    </tr>\n",
       "  </tbody>\n",
       "</table>\n",
       "</div>"
      ],
      "text/plain": [
       "               count       mean           std      min      25%      50%  \\\n",
       "Age           1000.0     40.106     10.707073     18.0     32.0     40.0   \n",
       "AnnualSalary  1000.0  72689.000  34488.341867  15000.0  46375.0  72000.0   \n",
       "Purchased     1000.0      0.402      0.490547      0.0      0.0      0.0   \n",
       "\n",
       "                  75%       max  \n",
       "Age              48.0      63.0  \n",
       "AnnualSalary  90000.0  152500.0  \n",
       "Purchased         1.0       1.0  "
      ]
     },
     "execution_count": 5,
     "metadata": {},
     "output_type": "execute_result"
    }
   ],
   "source": [
    "df.describe().T"
   ]
  },
  {
   "cell_type": "code",
   "execution_count": 6,
   "id": "84578ca5-c822-455a-8d4c-e93069296782",
   "metadata": {},
   "outputs": [
    {
     "data": {
      "image/png": "[encoded data removed]",
      "text/plain": [
       "<Figure size 432x288 with 2 Axes>"
      ]
     },
     "metadata": {
      "needs_background": "light"
     },
     "output_type": "display_data"
    }
   ],
   "source": [
    "sns.heatmap(df.corr(), annot=True, cmap=\"Blues\");"
   ]
  },
  {
   "cell_type": "markdown",
   "id": "46f4d256-4c14-4931-9d26-0bc14dea3b03",
   "metadata": {},
   "source": [
    "# 2. Select model"
   ]
  },
  {
   "cell_type": "code",
   "execution_count": 7,
   "id": "12e596d6-1b80-455f-b36f-3c7a3f14a3d8",
   "metadata": {},
   "outputs": [],
   "source": [
    "df[\"Gender\"].replace([\"Male\", \"Female\"], [1, 0], inplace=True)\n",
    "\n",
    "X = df.drop(\"Purchased\", axis=1)\n",
    "y = df[\"Purchased\"]"
   ]
  },
  {
   "cell_type": "code",
   "execution_count": 8,
   "id": "8fbab1e0-8977-4cbd-86c5-5f001306f003",
   "metadata": {},
   "outputs": [
    {
     "name": "stdout",
     "output_type": "stream",
     "text": [
      "ExtraTreeClf   : 0.94 (+/- 0.08)\n",
      "XGBClassifier  : 0.96 (+/- 0.05)\n",
      "LGBMClassifier : 0.96 (+/- 0.05)\n",
      "Catboost       : 0.97 (+/- 0.05)\n"
     ]
    }
   ],
   "source": [
    "models = {\n",
    "    \"ExtraTreeClf\": ExtraTreesClassifier(),\n",
    "    \"XGBClassifier\": XGBClassifier(),\n",
    "    \"LGBMClassifier\": LGBMClassifier(),\n",
    "    \"Catboost\": CatBoostClassifier(verbose=0)\n",
    "}\n",
    "\n",
    "kf = StratifiedKFold(10, shuffle=True, random_state=42)\n",
    "\n",
    "for name, model in models.items():\n",
    "    cvs = cross_val_score(model, X, y, cv=kf, scoring=\"roc_auc\")\n",
    "    mean = cvs.mean()\n",
    "    std = cvs.std()*3\n",
    "    \n",
    "    print(f\"{name:<15}: {mean:.2f} (+/- {std:.2f})\")"
   ]
  },
  {
   "cell_type": "markdown",
   "id": "640eac13-61b4-467d-9899-272a9bd2119f",
   "metadata": {},
   "source": [
    "# 3. Hyperparameter tuning"
   ]
  },
  {
   "cell_type": "code",
   "execution_count": 9,
   "id": "ed265434-abe6-466c-9166-a16becc3f6b0",
   "metadata": {},
   "outputs": [
    {
     "name": "stdout",
     "output_type": "stream",
     "text": [
      "Best score:  0.9725500723439439\n",
      "{'reg_lambda': 0.10526315789473684, 'n_estimators': 200, 'max_depth': 6, 'learning_rate': 0.028581020408163266}\n"
     ]
    }
   ],
   "source": [
    "params = {\n",
    "    \"max_depth\": [2, 3, 4, 5, 6],\n",
    "    \"reg_lambda\": np.linspace(0, 1, 20),\n",
    "    \"n_estimators\": [100, 200, 500, 800, 1000],\n",
    "    \"learning_rate\": np.linspace(0.00001, 0.7, 50)\n",
    "}\n",
    "\n",
    "model = RandomizedSearchCV(\n",
    "    CatBoostClassifier(random_state=42, verbose=0),\n",
    "    params,\n",
    "    n_iter = 50,\n",
    "    scoring = \"roc_auc\",\n",
    "    cv = kf\n",
    ").fit(X, y)\n",
    "\n",
    "print(\"Best score: \",model.best_score_)\n",
    "print(model.best_params_)"
   ]
  },
  {
   "cell_type": "markdown",
   "id": "091b3fd6-e7d3-4a24-bfb3-5b7b38555aee",
   "metadata": {},
   "source": [
    "# 4. Export model"
   ]
  },
  {
   "cell_type": "code",
   "execution_count": 10,
   "id": "9b4b63e3-e186-475f-9860-c2043be2c91f",
   "metadata": {},
   "outputs": [
    {
     "data": {
      "text/plain": [
       "['model/car_purchase.joblib']"
      ]
     },
     "execution_count": 10,
     "metadata": {},
     "output_type": "execute_result"
    }
   ],
   "source": [
    "dump(model, 'model/car_purchase.joblib')"
   ]
  },
  {
   "cell_type": "code",
   "execution_count": null,
   "id": "d525931f-d2ec-47fa-a9a9-356640028f43",
   "metadata": {},
   "outputs": [],
   "source": []
  }
 ],
 "metadata": {
  "kernelspec": {
   "display_name": "Python 3 (ipykernel)",
   "language": "python",
   "name": "python3"
  },
  "language_info": {
   "codemirror_mode": {
    "name": "ipython",
    "version": 3
   },
   "file_extension": ".py",
   "mimetype": "text/x-python",
   "name": "python",
   "nbconvert_exporter": "python",
   "pygments_lexer": "ipython3",
   "version": "3.9.7"
  }
 },
 "nbformat": 4,
 "nbformat_minor": 5
}
